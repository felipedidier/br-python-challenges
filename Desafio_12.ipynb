{
  "cells": [
    {
      "cell_type": "markdown",
      "metadata": {
        "id": "view-in-github",
        "colab_type": "text"
      },
      "source": [
        "<a href=\"https://colab.research.google.com/github/felipedidier/br-python-challenges/blob/master/Desafio_12.ipynb\" target=\"_parent\"><img src=\"https://colab.research.google.com/assets/colab-badge.svg\" alt=\"Open In Colab\"/></a>"
      ]
    },
    {
      "cell_type": "markdown",
      "metadata": {
        "id": "AYHY2YXQf6J2"
      },
      "source": [
        "### Desafio 12\n",
        "\n",
        "Escreva uma função em Python para verificar a validade de uma senha.\n",
        "\n",
        "A senha deve ter:\n",
        "\n",
        "* Pelo menos 1 letra entre [a-z] e 1 letra entre [A-Z].\n",
        "* Pelo menos 1 número entre [0-9].\n",
        "* Pelo menos 1 caractere de [$ # @].\n",
        "* Comprimento mínimo de 6 caracteres.\n",
        "* Comprimento máximo de 16 caracteres.\n",
        "\n",
        "Entradas: \"12345678\", \"J3sus0\", \"#Te5t300\", \"J*90j12374\", \"Michheeul\", \"Monk3y6\"\n",
        "\n",
        "A saída deve ser a senha e um texto indicando se a senha é válida ou inválida:\n",
        "\n",
        "```\n",
        "\"1234\" - Senha inválida\n",
        "\"Qw#1234\" - Senha válida\n",
        "```"
      ]
    },
    {
      "cell_type": "code",
      "execution_count": 27,
      "metadata": {
        "id": "UGgtGYGGf6J3"
      },
      "outputs": [],
      "source": [
        "# Seu código\n",
        "import re\n",
        "\n",
        "def password(senha):\n",
        "  size = len(senha)\n",
        "  maiuscula = re.search('[A-Z]', senha)\n",
        "  minuscula = re.search('[A-Z]', senha)\n",
        "  numero = re.search('[0-9]', senha)\n",
        "  especial = re.search('[$ # @]', senha)\n",
        "  if ((size >= 6) & (size <= 16)) & (maiuscula != None) & (minuscula != None) & (numero != None) & (especial != None):\n",
        "    return print(f'\"{senha}\" - Senha válida')\n",
        "  return print(f'\"{senha}\" - Senha inválida')"
      ]
    },
    {
      "cell_type": "code",
      "source": [
        "lst = [\"12345678\", \"J3sus0\", \"#Te5t300\", \"J*90j12374\", \"Michheeul\", \"Monk3y6\"]\n",
        "for i in lst:\n",
        "  password(i)"
      ],
      "metadata": {
        "id": "VFGZALVxJuSu",
        "outputId": "0dcfbcdf-399f-4f64-d658-da91e4c6bde1",
        "colab": {
          "base_uri": "https://localhost:8080/"
        }
      },
      "execution_count": 28,
      "outputs": [
        {
          "output_type": "stream",
          "name": "stdout",
          "text": [
            "\"12345678\" - Senha inválida\n",
            "\"J3sus0\" - Senha inválida\n",
            "\"#Te5t300\" - Senha válida\n",
            "\"J*90j12374\" - Senha inválida\n",
            "\"Michheeul\" - Senha inválida\n",
            "\"Monk3y6\" - Senha inválida\n"
          ]
        }
      ]
    }
  ],
  "metadata": {
    "anaconda-cloud": {},
    "colab": {
      "name": "Desafio 12.ipynb",
      "provenance": [],
      "include_colab_link": true
    },
    "kernelspec": {
      "display_name": "Python 3",
      "language": "python",
      "name": "python3"
    },
    "language_info": {
      "codemirror_mode": {
        "name": "ipython",
        "version": 3
      },
      "file_extension": ".py",
      "mimetype": "text/x-python",
      "name": "python",
      "nbconvert_exporter": "python",
      "pygments_lexer": "ipython3",
      "version": "3.7.9"
    }
  },
  "nbformat": 4,
  "nbformat_minor": 0
}