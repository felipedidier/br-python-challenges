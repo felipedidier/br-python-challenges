{
  "cells": [
    {
      "cell_type": "markdown",
      "metadata": {
        "id": "view-in-github",
        "colab_type": "text"
      },
      "source": [
        "<a href=\"https://colab.research.google.com/github/felipedidier/br-python-challenges/blob/master/Desafio_10.ipynb\" target=\"_parent\"><img src=\"https://colab.research.google.com/assets/colab-badge.svg\" alt=\"Open In Colab\"/></a>"
      ]
    },
    {
      "cell_type": "markdown",
      "metadata": {
        "id": "a4-FLDRof6Jv"
      },
      "source": [
        "### Desafio 10\n",
        "\n",
        "Dada uma lista, divida-a em 3 partes iguais e reverta a ordem de cada lista.\n",
        "\n",
        "**Exemplo:** \n",
        "\n",
        "Entrada: \\\n",
        "sampleList = [11, 45, 8, 23, 14, 12, 78, 45, 89]\n",
        "\n",
        "Saída: \\\n",
        "Parte 1 [8, 45, 11] \\\n",
        "Parte 2 [12, 14, 23] \\\n",
        "Parte 3 [89, 45, 78] "
      ]
    },
    {
      "cell_type": "code",
      "execution_count": 42,
      "metadata": {
        "id": "IJ70pUjnf6Jw"
      },
      "outputs": [],
      "source": [
        "# Seu código\n",
        "samplelist = [11, 45, 8, 23, 14, 12, 78, 45, 89]"
      ]
    },
    {
      "cell_type": "code",
      "execution_count": 39,
      "metadata": {
        "id": "pNrXNVqf8Wc1"
      },
      "outputs": [],
      "source": [
        "def division(samplelist):\n",
        "  if len(samplelist)%3 == 0:\n",
        "    size = int(len(samplelist)/3)\n",
        "    lst = []\n",
        "    for i in range(3):\n",
        "      lst_temp = samplelist[(i*size):((i+1)*size)]\n",
        "      lst_temp.reverse()\n",
        "      lst.append(lst_temp)\n",
        "    return lst[0], lst[1], lst[2]\n",
        "  return 'Lista não pode ser dividida em 03'"
      ]
    },
    {
      "cell_type": "code",
      "source": [
        "division(samplelist)"
      ],
      "metadata": {
        "id": "lAnZWc2XDFHI",
        "outputId": "32911a4c-8068-4879-e162-effbc5ea4e60",
        "colab": {
          "base_uri": "https://localhost:8080/"
        }
      },
      "execution_count": 43,
      "outputs": [
        {
          "output_type": "execute_result",
          "data": {
            "text/plain": [
              "([8, 45, 11], [12, 14, 23], [89, 45, 78])"
            ]
          },
          "metadata": {},
          "execution_count": 43
        }
      ]
    }
  ],
  "metadata": {
    "anaconda-cloud": {},
    "colab": {
      "name": "Desafio 10.ipynb",
      "provenance": [],
      "include_colab_link": true
    },
    "kernelspec": {
      "display_name": "Python 3",
      "language": "python",
      "name": "python3"
    },
    "language_info": {
      "codemirror_mode": {
        "name": "ipython",
        "version": 3
      },
      "file_extension": ".py",
      "mimetype": "text/x-python",
      "name": "python",
      "nbconvert_exporter": "python",
      "pygments_lexer": "ipython3",
      "version": "3.7.9"
    }
  },
  "nbformat": 4,
  "nbformat_minor": 0
}