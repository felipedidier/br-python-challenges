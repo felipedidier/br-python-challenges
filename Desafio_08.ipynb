{
  "cells": [
    {
      "cell_type": "markdown",
      "metadata": {
        "id": "view-in-github",
        "colab_type": "text"
      },
      "source": [
        "<a href=\"https://colab.research.google.com/github/felipedidier/br-python-challenges/blob/master/Desafio_08.ipynb\" target=\"_parent\"><img src=\"https://colab.research.google.com/assets/colab-badge.svg\" alt=\"Open In Colab\"/></a>"
      ]
    },
    {
      "cell_type": "markdown",
      "metadata": {
        "id": "o3tkeMDNf6Jo"
      },
      "source": [
        "### Desafio 8\n",
        "\n",
        "Escreva um script Python para encontrar as 10 palavras mais longas em um arquivo de texto.\n",
        "O arquivo .txt está localizado na mesma pasta do projeto (**texto.txt**)."
      ]
    },
    {
      "cell_type": "code",
      "execution_count": 39,
      "metadata": {
        "id": "EknxjSG0f6Jo"
      },
      "outputs": [],
      "source": [
        "# Seu código\n",
        "import re\n",
        "import pandas as pd\n",
        "\n",
        "def maiores_palavras(arquivo):\n",
        "  with open(arquivo, 'r') as texto:\n",
        "    lines = texto.readlines()\n",
        "  dic = {}\n",
        "  for line in lines:\n",
        "    line = re.sub(r\"[^a-zA-Z0-9 ]\", \"\", line)\n",
        "    for word in line.strip().split():\n",
        "      dic[word] = len(word)\n",
        "  lista = pd.DataFrame(data = list(dic.items()), columns=['Nome', 'Tamanho']).sort_values(by='Tamanho', ascending=False).head(10)['Nome'].tolist()\n",
        "  return lista"
      ]
    },
    {
      "cell_type": "code",
      "source": [
        "arquivo = 'texto.txt'\n",
        "maiores_palavras(arquivo)"
      ],
      "metadata": {
        "id": "ZkSDNt0V7_Id",
        "outputId": "e367b002-1f84-403e-ec57-dd2dacded90f",
        "colab": {
          "base_uri": "https://localhost:8080/"
        }
      },
      "execution_count": 40,
      "outputs": [
        {
          "output_type": "execute_result",
          "data": {
            "text/plain": [
              "['objectoriented',\n",
              " 'generalpurpose',\n",
              " 'comprehensive',\n",
              " 'intermediate',\n",
              " 'programming',\n",
              " 'readability',\n",
              " 'interpreted',\n",
              " 'programmers',\n",
              " 'languageIts',\n",
              " 'functional']"
            ]
          },
          "metadata": {},
          "execution_count": 40
        }
      ]
    }
  ],
  "metadata": {
    "anaconda-cloud": {},
    "colab": {
      "name": "Desafio 8.ipynb",
      "provenance": [],
      "include_colab_link": true
    },
    "kernelspec": {
      "display_name": "Python 3",
      "language": "python",
      "name": "python3"
    },
    "language_info": {
      "codemirror_mode": {
        "name": "ipython",
        "version": 3
      },
      "file_extension": ".py",
      "mimetype": "text/x-python",
      "name": "python",
      "nbconvert_exporter": "python",
      "pygments_lexer": "ipython3",
      "version": "3.7.9"
    }
  },
  "nbformat": 4,
  "nbformat_minor": 0
}